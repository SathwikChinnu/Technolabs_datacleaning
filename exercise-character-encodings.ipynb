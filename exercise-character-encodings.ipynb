{
 "cells": [
  {
   "cell_type": "markdown",
   "id": "f104ec85",
   "metadata": {
    "papermill": {
     "duration": 0.006437,
     "end_time": "2023-01-08T11:14:42.756707",
     "exception": false,
     "start_time": "2023-01-08T11:14:42.750270",
     "status": "completed"
    },
    "tags": []
   },
   "source": [
    "**This notebook is an exercise in the [Data Cleaning](https://www.kaggle.com/learn/data-cleaning) course.  You can reference the tutorial at [this link](https://www.kaggle.com/alexisbcook/character-encodings).**\n",
    "\n",
    "---\n"
   ]
  },
  {
   "cell_type": "markdown",
   "id": "2106768e",
   "metadata": {
    "papermill": {
     "duration": 0.004534,
     "end_time": "2023-01-08T11:14:42.766519",
     "exception": false,
     "start_time": "2023-01-08T11:14:42.761985",
     "status": "completed"
    },
    "tags": []
   },
   "source": [
    "In this exercise, you'll apply what you learned in the **Character encodings** tutorial.\n",
    "\n",
    "# Setup\n",
    "\n",
    "The questions below will give you feedback on your work. Run the following cell to set up the feedback system."
   ]
  },
  {
   "cell_type": "code",
   "execution_count": 1,
   "id": "110dd718",
   "metadata": {
    "execution": {
     "iopub.execute_input": "2023-01-08T11:14:42.780183Z",
     "iopub.status.busy": "2023-01-08T11:14:42.779579Z",
     "iopub.status.idle": "2023-01-08T11:14:42.871494Z",
     "shell.execute_reply": "2023-01-08T11:14:42.870090Z"
    },
    "papermill": {
     "duration": 0.101345,
     "end_time": "2023-01-08T11:14:42.874320",
     "exception": false,
     "start_time": "2023-01-08T11:14:42.772975",
     "status": "completed"
    },
    "tags": []
   },
   "outputs": [
    {
     "name": "stdout",
     "output_type": "stream",
     "text": [
      "Setup Complete\n"
     ]
    }
   ],
   "source": [
    "from learntools.core import binder\n",
    "binder.bind(globals())\n",
    "from learntools.data_cleaning.ex4 import *\n",
    "print(\"Setup Complete\")"
   ]
  },
  {
   "cell_type": "markdown",
   "id": "faf1c4b1",
   "metadata": {
    "papermill": {
     "duration": 0.00447,
     "end_time": "2023-01-08T11:14:42.883743",
     "exception": false,
     "start_time": "2023-01-08T11:14:42.879273",
     "status": "completed"
    },
    "tags": []
   },
   "source": [
    "# Get our environment set up\n",
    "\n",
    "The first thing we'll need to do is load in the libraries we'll be using."
   ]
  },
  {
   "cell_type": "code",
   "execution_count": 2,
   "id": "4851f286",
   "metadata": {
    "execution": {
     "iopub.execute_input": "2023-01-08T11:14:42.894811Z",
     "iopub.status.busy": "2023-01-08T11:14:42.894411Z",
     "iopub.status.idle": "2023-01-08T11:14:42.900136Z",
     "shell.execute_reply": "2023-01-08T11:14:42.898935Z"
    },
    "papermill": {
     "duration": 0.013954,
     "end_time": "2023-01-08T11:14:42.902443",
     "exception": false,
     "start_time": "2023-01-08T11:14:42.888489",
     "status": "completed"
    },
    "tags": []
   },
   "outputs": [],
   "source": [
    "# modules we'll use\n",
    "import pandas as pd\n",
    "import numpy as np\n",
    "\n",
    "# helpful character encoding module\n",
    "import chardet\n",
    "\n",
    "# set seed for reproducibility\n",
    "np.random.seed(0)"
   ]
  },
  {
   "cell_type": "markdown",
   "id": "a925e7bd",
   "metadata": {
    "papermill": {
     "duration": 0.004463,
     "end_time": "2023-01-08T11:14:42.911673",
     "exception": false,
     "start_time": "2023-01-08T11:14:42.907210",
     "status": "completed"
    },
    "tags": []
   },
   "source": [
    "# 1) What are encodings?\n",
    "\n",
    "You're working with a dataset composed of bytes.  Run the code cell below to print a sample entry."
   ]
  },
  {
   "cell_type": "code",
   "execution_count": 3,
   "id": "0d6b4b4b",
   "metadata": {
    "execution": {
     "iopub.execute_input": "2023-01-08T11:14:42.922904Z",
     "iopub.status.busy": "2023-01-08T11:14:42.922528Z",
     "iopub.status.idle": "2023-01-08T11:14:42.928425Z",
     "shell.execute_reply": "2023-01-08T11:14:42.927321Z"
    },
    "papermill": {
     "duration": 0.014309,
     "end_time": "2023-01-08T11:14:42.930688",
     "exception": false,
     "start_time": "2023-01-08T11:14:42.916379",
     "status": "completed"
    },
    "tags": []
   },
   "outputs": [
    {
     "name": "stdout",
     "output_type": "stream",
     "text": [
      "b'\\xa7A\\xa6n'\n",
      "data type: <class 'bytes'>\n"
     ]
    }
   ],
   "source": [
    "sample_entry = b'\\xa7A\\xa6n'\n",
    "print(sample_entry)\n",
    "print('data type:', type(sample_entry))"
   ]
  },
  {
   "cell_type": "markdown",
   "id": "3f332693",
   "metadata": {
    "papermill": {
     "duration": 0.004651,
     "end_time": "2023-01-08T11:14:42.940261",
     "exception": false,
     "start_time": "2023-01-08T11:14:42.935610",
     "status": "completed"
    },
    "tags": []
   },
   "source": [
    "You notice that it doesn't use the standard UTF-8 encoding. \n",
    "\n",
    "Use the next code cell to create a variable `new_entry` that changes the encoding from `\"big5-tw\"` to `\"utf-8\"`.  `new_entry` should have the bytes datatype."
   ]
  },
  {
   "cell_type": "code",
   "execution_count": 4,
   "id": "f60d40c1",
   "metadata": {
    "execution": {
     "iopub.execute_input": "2023-01-08T11:14:42.952366Z",
     "iopub.status.busy": "2023-01-08T11:14:42.951342Z",
     "iopub.status.idle": "2023-01-08T11:14:42.963913Z",
     "shell.execute_reply": "2023-01-08T11:14:42.962657Z"
    },
    "papermill": {
     "duration": 0.021859,
     "end_time": "2023-01-08T11:14:42.966955",
     "exception": false,
     "start_time": "2023-01-08T11:14:42.945096",
     "status": "completed"
    },
    "tags": []
   },
   "outputs": [
    {
     "data": {
      "application/javascript": [
       "parent.postMessage({\"jupyterEvent\": \"custom.exercise_interaction\", \"data\": {\"outcomeType\": 1, \"valueTowardsCompletion\": 0.3333333333333333, \"interactionType\": 1, \"questionType\": 1, \"questionId\": \"1_EncodingsIntro\", \"learnToolsVersion\": \"0.3.4\", \"failureMessage\": \"\", \"exceptionClass\": \"\", \"trace\": \"\"}}, \"*\")"
      ],
      "text/plain": [
       "<IPython.core.display.Javascript object>"
      ]
     },
     "metadata": {},
     "output_type": "display_data"
    },
    {
     "data": {
      "text/markdown": [
       "<span style=\"color:#33cc33\">Correct</span>"
      ],
      "text/plain": [
       "Correct"
      ]
     },
     "metadata": {},
     "output_type": "display_data"
    }
   ],
   "source": [
    "new = sample_entry.decode(\"big5-tw\")\n",
    "new_entry=new.encode(\"utf-8\")\n",
    "# Check your answer\n",
    "q1.check()"
   ]
  },
  {
   "cell_type": "code",
   "execution_count": 5,
   "id": "01ed3a2c",
   "metadata": {
    "execution": {
     "iopub.execute_input": "2023-01-08T11:14:42.980318Z",
     "iopub.status.busy": "2023-01-08T11:14:42.979308Z",
     "iopub.status.idle": "2023-01-08T11:14:42.988714Z",
     "shell.execute_reply": "2023-01-08T11:14:42.987532Z"
    },
    "papermill": {
     "duration": 0.018357,
     "end_time": "2023-01-08T11:14:42.990940",
     "exception": false,
     "start_time": "2023-01-08T11:14:42.972583",
     "status": "completed"
    },
    "tags": []
   },
   "outputs": [
    {
     "data": {
      "application/javascript": [
       "parent.postMessage({\"jupyterEvent\": \"custom.exercise_interaction\", \"data\": {\"interactionType\": 2, \"questionType\": 1, \"questionId\": \"1_EncodingsIntro\", \"learnToolsVersion\": \"0.3.4\", \"valueTowardsCompletion\": 0.0, \"failureMessage\": \"\", \"exceptionClass\": \"\", \"trace\": \"\", \"outcomeType\": 4}}, \"*\")"
      ],
      "text/plain": [
       "<IPython.core.display.Javascript object>"
      ]
     },
     "metadata": {},
     "output_type": "display_data"
    },
    {
     "data": {
      "text/markdown": [
       "<span style=\"color:#3366cc\">Hint:</span> Try using `.decode()` to get the string, then `.encode()` to get the bytes representation, encoded in UTF-8."
      ],
      "text/plain": [
       "Hint: Try using `.decode()` to get the string, then `.encode()` to get the bytes representation, encoded in UTF-8."
      ]
     },
     "metadata": {},
     "output_type": "display_data"
    }
   ],
   "source": [
    "# Lines below will give you a hint or solution code\n",
    "q1.hint()\n",
    "#q1.solution()"
   ]
  },
  {
   "cell_type": "markdown",
   "id": "cc77dc1e",
   "metadata": {
    "papermill": {
     "duration": 0.005061,
     "end_time": "2023-01-08T11:14:43.001346",
     "exception": false,
     "start_time": "2023-01-08T11:14:42.996285",
     "status": "completed"
    },
    "tags": []
   },
   "source": [
    "# 2) Reading in files with encoding problems\n",
    "\n",
    "Use the code cell below to read in this file at path `\"../input/fatal-police-shootings-in-the-us/PoliceKillingsUS.csv\"`.  \n",
    "\n",
    "Figure out what the correct encoding should be and read in the file to a DataFrame `police_killings`."
   ]
  },
  {
   "cell_type": "code",
   "execution_count": 6,
   "id": "5b9ea2cb",
   "metadata": {
    "execution": {
     "iopub.execute_input": "2023-01-08T11:14:43.014141Z",
     "iopub.status.busy": "2023-01-08T11:14:43.013466Z",
     "iopub.status.idle": "2023-01-08T11:14:43.040644Z",
     "shell.execute_reply": "2023-01-08T11:14:43.039524Z"
    },
    "papermill": {
     "duration": 0.036618,
     "end_time": "2023-01-08T11:14:43.043285",
     "exception": false,
     "start_time": "2023-01-08T11:14:43.006667",
     "status": "completed"
    },
    "tags": []
   },
   "outputs": [
    {
     "data": {
      "application/javascript": [
       "parent.postMessage({\"jupyterEvent\": \"custom.exercise_interaction\", \"data\": {\"outcomeType\": 1, \"valueTowardsCompletion\": 0.3333333333333333, \"interactionType\": 1, \"questionType\": 1, \"questionId\": \"2_ReadIn\", \"learnToolsVersion\": \"0.3.4\", \"failureMessage\": \"\", \"exceptionClass\": \"\", \"trace\": \"\"}}, \"*\")"
      ],
      "text/plain": [
       "<IPython.core.display.Javascript object>"
      ]
     },
     "metadata": {},
     "output_type": "display_data"
    },
    {
     "data": {
      "text/markdown": [
       "<span style=\"color:#33cc33\">Correct</span>"
      ],
      "text/plain": [
       "Correct"
      ]
     },
     "metadata": {},
     "output_type": "display_data"
    }
   ],
   "source": [
    "# TODO: Load in the DataFrame correctly.\n",
    "\n",
    "police_killings = pd.read_csv(\"../input/fatal-police-shootings-in-the-us/PoliceKillingsUS.csv\",encoding='Windows-1252')\n",
    "\n",
    "# Check your answer\n",
    "q2.check()"
   ]
  },
  {
   "cell_type": "markdown",
   "id": "f583040c",
   "metadata": {
    "papermill": {
     "duration": 0.005445,
     "end_time": "2023-01-08T11:14:43.054509",
     "exception": false,
     "start_time": "2023-01-08T11:14:43.049064",
     "status": "completed"
    },
    "tags": []
   },
   "source": [
    "Feel free to use any additional code cells for supplemental work.  To get credit for finishing this question, you'll need to run `q2.check()` and get a result of **Correct**."
   ]
  },
  {
   "cell_type": "code",
   "execution_count": 7,
   "id": "53cc50ba",
   "metadata": {
    "execution": {
     "iopub.execute_input": "2023-01-08T11:14:43.069835Z",
     "iopub.status.busy": "2023-01-08T11:14:43.069402Z",
     "iopub.status.idle": "2023-01-08T11:14:44.621730Z",
     "shell.execute_reply": "2023-01-08T11:14:44.620281Z"
    },
    "papermill": {
     "duration": 1.564256,
     "end_time": "2023-01-08T11:14:44.625644",
     "exception": false,
     "start_time": "2023-01-08T11:14:43.061388",
     "status": "completed"
    },
    "tags": []
   },
   "outputs": [
    {
     "name": "stdout",
     "output_type": "stream",
     "text": [
      "{'encoding': 'Windows-1252', 'confidence': 0.73, 'language': ''}\n"
     ]
    }
   ],
   "source": [
    "# (Optional) Use this code cell for any additional work.\n",
    "with open(\"../input/fatal-police-shootings-in-the-us/PoliceKillingsUS.csv\", 'rb') as rawdata:\n",
    "    result = chardet.detect(rawdata.read(100000))\n",
    "    \n",
    "print(result)"
   ]
  },
  {
   "cell_type": "code",
   "execution_count": 8,
   "id": "48af4d7c",
   "metadata": {
    "execution": {
     "iopub.execute_input": "2023-01-08T11:14:44.639030Z",
     "iopub.status.busy": "2023-01-08T11:14:44.638631Z",
     "iopub.status.idle": "2023-01-08T11:14:44.643556Z",
     "shell.execute_reply": "2023-01-08T11:14:44.642429Z"
    },
    "papermill": {
     "duration": 0.014298,
     "end_time": "2023-01-08T11:14:44.645939",
     "exception": false,
     "start_time": "2023-01-08T11:14:44.631641",
     "status": "completed"
    },
    "tags": []
   },
   "outputs": [],
   "source": [
    "# Lines below will give you a hint or solution code\n",
    "#q2.hint()\n",
    "#q2.solution()"
   ]
  },
  {
   "cell_type": "markdown",
   "id": "519c123c",
   "metadata": {
    "papermill": {
     "duration": 0.005473,
     "end_time": "2023-01-08T11:14:44.657347",
     "exception": false,
     "start_time": "2023-01-08T11:14:44.651874",
     "status": "completed"
    },
    "tags": []
   },
   "source": [
    "# 3) Saving your files with UTF-8 encoding\n",
    "\n",
    "Save a version of the police killings dataset to CSV with UTF-8 encoding.  Your answer will be marked correct after saving this file.  \n",
    "\n",
    "Note: When using the `to_csv()` method, supply only the name of the file (e.g., `\"my_file.csv\"`).  This saves the file at the filepath `\"/kaggle/working/my_file.csv\"`."
   ]
  },
  {
   "cell_type": "code",
   "execution_count": 9,
   "id": "74875d8d",
   "metadata": {
    "execution": {
     "iopub.execute_input": "2023-01-08T11:14:44.671151Z",
     "iopub.status.busy": "2023-01-08T11:14:44.670142Z",
     "iopub.status.idle": "2023-01-08T11:14:44.702603Z",
     "shell.execute_reply": "2023-01-08T11:14:44.701324Z"
    },
    "papermill": {
     "duration": 0.041763,
     "end_time": "2023-01-08T11:14:44.704989",
     "exception": false,
     "start_time": "2023-01-08T11:14:44.663226",
     "status": "completed"
    },
    "tags": []
   },
   "outputs": [
    {
     "data": {
      "application/javascript": [
       "parent.postMessage({\"jupyterEvent\": \"custom.exercise_interaction\", \"data\": {\"outcomeType\": 1, \"valueTowardsCompletion\": 0.3333333333333333, \"interactionType\": 1, \"questionType\": 2, \"questionId\": \"3_SaveCSV\", \"learnToolsVersion\": \"0.3.4\", \"failureMessage\": \"\", \"exceptionClass\": \"\", \"trace\": \"\"}}, \"*\")"
      ],
      "text/plain": [
       "<IPython.core.display.Javascript object>"
      ]
     },
     "metadata": {},
     "output_type": "display_data"
    },
    {
     "data": {
      "text/markdown": [
       "<span style=\"color:#33cc33\">Correct</span>"
      ],
      "text/plain": [
       "Correct"
      ]
     },
     "metadata": {},
     "output_type": "display_data"
    }
   ],
   "source": [
    "# TODO: Save the police killings dataset to CSV\n",
    "police_killings.to_csv(\"my_file.csv\")\n",
    "\n",
    "# Check your answer\n",
    "q3.check()"
   ]
  },
  {
   "cell_type": "code",
   "execution_count": 10,
   "id": "302c284b",
   "metadata": {
    "execution": {
     "iopub.execute_input": "2023-01-08T11:14:44.718431Z",
     "iopub.status.busy": "2023-01-08T11:14:44.718029Z",
     "iopub.status.idle": "2023-01-08T11:14:44.723086Z",
     "shell.execute_reply": "2023-01-08T11:14:44.722008Z"
    },
    "papermill": {
     "duration": 0.014439,
     "end_time": "2023-01-08T11:14:44.725316",
     "exception": false,
     "start_time": "2023-01-08T11:14:44.710877",
     "status": "completed"
    },
    "tags": []
   },
   "outputs": [],
   "source": [
    "# Lines below will give you a hint or solution code\n",
    "#q3.hint()\n",
    "#q3.solution()"
   ]
  },
  {
   "cell_type": "markdown",
   "id": "2961f39a",
   "metadata": {
    "papermill": {
     "duration": 0.005752,
     "end_time": "2023-01-08T11:14:44.737097",
     "exception": false,
     "start_time": "2023-01-08T11:14:44.731345",
     "status": "completed"
    },
    "tags": []
   },
   "source": [
    "# (Optional) More practice\n",
    "\n",
    "Check out [this dataset of files in different character encodings](https://www.kaggle.com/rtatman/character-encoding-examples). Can you read in all the files with their original encodings and them save them out as UTF-8 files?\n",
    "\n",
    "If you have a file that's in UTF-8 but has just a couple of weird-looking characters in it, you can try out the [ftfy module](https://ftfy.readthedocs.io/en/latest/#) and see if it helps. \n",
    "\n",
    "# Keep going\n",
    "\n",
    "In the final lesson, learn how to [**clean up inconsistent text entries**](https://www.kaggle.com/alexisbcook/inconsistent-data-entry) in your dataset."
   ]
  },
  {
   "cell_type": "markdown",
   "id": "d9ba1bf6",
   "metadata": {
    "papermill": {
     "duration": 0.005647,
     "end_time": "2023-01-08T11:14:44.748881",
     "exception": false,
     "start_time": "2023-01-08T11:14:44.743234",
     "status": "completed"
    },
    "tags": []
   },
   "source": [
    "---\n",
    "\n",
    "\n",
    "\n",
    "\n",
    "*Have questions or comments? Visit the [course discussion forum](https://www.kaggle.com/learn/data-cleaning/discussion) to chat with other learners.*"
   ]
  }
 ],
 "metadata": {
  "kernelspec": {
   "display_name": "Python 3",
   "language": "python",
   "name": "python3"
  },
  "language_info": {
   "codemirror_mode": {
    "name": "ipython",
    "version": 3
   },
   "file_extension": ".py",
   "mimetype": "text/x-python",
   "name": "python",
   "nbconvert_exporter": "python",
   "pygments_lexer": "ipython3",
   "version": "3.7.12"
  },
  "papermill": {
   "default_parameters": {},
   "duration": 11.328405,
   "end_time": "2023-01-08T11:14:45.375913",
   "environment_variables": {},
   "exception": null,
   "input_path": "__notebook__.ipynb",
   "output_path": "__notebook__.ipynb",
   "parameters": {},
   "start_time": "2023-01-08T11:14:34.047508",
   "version": "2.3.4"
  }
 },
 "nbformat": 4,
 "nbformat_minor": 5
}
